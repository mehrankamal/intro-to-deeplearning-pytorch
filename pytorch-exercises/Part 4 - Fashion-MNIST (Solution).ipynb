{
 "cells": [
  {
   "cell_type": "markdown",
   "metadata": {},
   "source": [
    "# Classifying Fashion-MNIST\n",
    "\n",
    "Now it's your turn to build and train a neural network. You'll be using the [Fashion-MNIST dataset](https://github.com/zalandoresearch/fashion-mnist), a drop-in replacement for the MNIST dataset. MNIST is actually quite trivial with neural networks where you can easily achieve better than 97% accuracy. Fashion-MNIST is a set of 28x28 greyscale images of clothes. It's more complex than MNIST, so it's a better representation of the actual performance of your network, and a better representation of datasets you'll use in the real world.\n",
    "\n",
    "<img src='assets/fashion-mnist-sprite.png' width=500px>\n",
    "\n",
    "In this notebook, you'll build your own neural network. For the most part, you could just copy and paste the code from Part 3, but you wouldn't be learning. It's important for you to write the code yourself and get it to work. Feel free to consult the previous notebooks though as you work through this.\n",
    "\n",
    "First off, let's load the dataset through torchvision."
   ]
  },
  {
   "cell_type": "code",
   "execution_count": 1,
   "metadata": {},
   "outputs": [
    {
     "name": "stderr",
     "output_type": "stream",
     "text": [
      "\r",
      "0it [00:00, ?it/s]"
     ]
    },
    {
     "name": "stdout",
     "output_type": "stream",
     "text": [
      "Downloading http://fashion-mnist.s3-website.eu-central-1.amazonaws.com/train-images-idx3-ubyte.gz to /home/mehran/.pytorch/F_MNIST_data/FashionMNIST/raw/train-images-idx3-ubyte.gz\n"
     ]
    },
    {
     "name": "stderr",
     "output_type": "stream",
     "text": [
      "100%|█████████▉| 26411008/26421880 [00:40<00:00, 859035.37it/s] "
     ]
    },
    {
     "name": "stdout",
     "output_type": "stream",
     "text": [
      "Extracting /home/mehran/.pytorch/F_MNIST_data/FashionMNIST/raw/train-images-idx3-ubyte.gz\n"
     ]
    },
    {
     "name": "stderr",
     "output_type": "stream",
     "text": [
      "\n",
      "0it [00:00, ?it/s]\u001b[A"
     ]
    },
    {
     "name": "stdout",
     "output_type": "stream",
     "text": [
      "Downloading http://fashion-mnist.s3-website.eu-central-1.amazonaws.com/train-labels-idx1-ubyte.gz to /home/mehran/.pytorch/F_MNIST_data/FashionMNIST/raw/train-labels-idx1-ubyte.gz\n"
     ]
    },
    {
     "name": "stderr",
     "output_type": "stream",
     "text": [
      "\n",
      "  0%|          | 0/29515 [00:00<?, ?it/s]\u001b[A\n",
      " 56%|█████▌    | 16384/29515 [00:00<00:00, 101969.03it/s]\u001b[A\n",
      "32768it [00:00, 42613.11it/s]                            \u001b[A\n",
      "0it [00:00, ?it/s]\u001b[A"
     ]
    },
    {
     "name": "stdout",
     "output_type": "stream",
     "text": [
      "Extracting /home/mehran/.pytorch/F_MNIST_data/FashionMNIST/raw/train-labels-idx1-ubyte.gz\n",
      "Downloading http://fashion-mnist.s3-website.eu-central-1.amazonaws.com/t10k-images-idx3-ubyte.gz to /home/mehran/.pytorch/F_MNIST_data/FashionMNIST/raw/t10k-images-idx3-ubyte.gz\n"
     ]
    },
    {
     "name": "stderr",
     "output_type": "stream",
     "text": [
      "\n",
      "  0%|          | 0/4422102 [00:00<?, ?it/s]\u001b[A\n",
      "  0%|          | 8192/4422102 [00:01<04:28, 16432.02it/s]\u001b[A\n",
      "  0%|          | 16384/4422102 [00:01<03:36, 20323.67it/s]\u001b[A\n",
      "  1%|          | 24576/4422102 [00:01<03:17, 22250.19it/s]\u001b[A\n",
      "  1%|          | 32768/4422102 [00:01<02:36, 28124.98it/s]\u001b[A\n",
      "  1%|          | 40960/4422102 [00:01<02:07, 34278.16it/s]\u001b[A\n",
      "  1%|          | 49152/4422102 [00:02<01:55, 37771.38it/s]\u001b[A\n",
      "  1%|▏         | 65536/4422102 [00:02<01:39, 43819.43it/s]\u001b[A\n",
      "  2%|▏         | 81920/4422102 [00:02<01:29, 48705.05it/s]\u001b[A\n",
      "  2%|▏         | 90112/4422102 [00:02<01:30, 47633.03it/s]\u001b[A\n",
      "  2%|▏         | 106496/4422102 [00:02<01:16, 56056.19it/s]\u001b[A\n",
      "  3%|▎         | 122880/4422102 [00:03<01:08, 62375.09it/s]\u001b[A\n",
      "  3%|▎         | 139264/4422102 [00:03<01:01, 70124.42it/s]\u001b[A\n",
      "  3%|▎         | 147456/4422102 [00:03<01:07, 63764.06it/s]\u001b[A\n",
      "  4%|▎         | 155648/4422102 [00:03<01:05, 64971.05it/s]\u001b[A\n",
      "  4%|▎         | 163840/4422102 [00:03<01:01, 68715.09it/s]\u001b[A\n",
      "  4%|▍         | 180224/4422102 [00:03<00:59, 71351.67it/s]\u001b[A\n",
      "  4%|▍         | 196608/4422102 [00:04<00:55, 76627.37it/s]\u001b[A\n",
      "  5%|▍         | 204800/4422102 [00:04<00:56, 74562.81it/s]\u001b[A\n",
      "  5%|▍         | 212992/4422102 [00:04<01:01, 68418.54it/s]\u001b[A\n",
      "  5%|▌         | 229376/4422102 [00:04<00:52, 80110.21it/s]\u001b[A\n",
      "  6%|▌         | 245760/4422102 [00:04<00:54, 77068.72it/s]\u001b[A\n",
      "  6%|▌         | 262144/4422102 [00:04<00:49, 84853.67it/s]\u001b[A\n",
      "  6%|▋         | 278528/4422102 [00:04<00:45, 90279.82it/s]\u001b[A\n",
      "  7%|▋         | 294912/4422102 [00:05<00:47, 87613.11it/s]\u001b[A\n",
      "  7%|▋         | 319488/4422102 [00:05<00:41, 99511.26it/s]\u001b[A\n",
      "  8%|▊         | 344064/4422102 [00:05<00:37, 107980.65it/s]\u001b[A\n",
      "  8%|▊         | 360448/4422102 [00:05<00:36, 111898.97it/s]\u001b[A\n",
      "  9%|▊         | 385024/4422102 [00:05<00:33, 120550.01it/s]\u001b[A\n",
      "  9%|▉         | 409600/4422102 [00:05<00:30, 130518.23it/s]\u001b[A\n",
      " 10%|▉         | 434176/4422102 [00:06<00:30, 130412.50it/s]\u001b[A\n",
      " 11%|█         | 466944/4422102 [00:06<00:31, 127061.30it/s]\u001b[A\n",
      " 11%|█         | 491520/4422102 [00:06<00:35, 112281.59it/s]\u001b[A\n",
      " 12%|█▏        | 524288/4422102 [00:06<00:30, 127671.78it/s]\u001b[A\n",
      " 13%|█▎        | 565248/4422102 [00:07<00:27, 137997.46it/s]\u001b[A\n",
      " 14%|█▎        | 598016/4422102 [00:07<00:27, 139676.64it/s]\u001b[A\n",
      " 14%|█▍        | 638976/4422102 [00:07<00:23, 163456.90it/s]\u001b[A\n",
      " 16%|█▌        | 688128/4422102 [00:07<00:19, 190255.63it/s]\u001b[A\n",
      " 17%|█▋        | 737280/4422102 [00:07<00:17, 216643.35it/s]\u001b[A\n",
      " 18%|█▊        | 786432/4422102 [00:07<00:15, 239875.83it/s]\u001b[A\n",
      " 19%|█▉        | 843776/4422102 [00:08<00:12, 288157.61it/s]\u001b[A\n",
      " 20%|██        | 884736/4422102 [00:08<00:12, 275706.49it/s]\u001b[A\n",
      " 21%|██        | 933888/4422102 [00:08<00:11, 303828.28it/s]\u001b[A\n",
      " 22%|██▏       | 983040/4422102 [00:08<00:10, 325775.40it/s]\u001b[A\n",
      " 24%|██▎       | 1048576/4422102 [00:08<00:09, 368310.04it/s]\u001b[A\n",
      " 25%|██▍       | 1097728/4422102 [00:08<00:08, 393063.53it/s]\u001b[A\n",
      " 26%|██▌       | 1146880/4422102 [00:08<00:07, 412189.61it/s]\u001b[A\n",
      " 27%|██▋       | 1196032/4422102 [00:08<00:07, 409637.54it/s]\u001b[A\n",
      " 28%|██▊       | 1245184/4422102 [00:09<00:10, 315742.79it/s]\u001b[A\n",
      " 30%|███       | 1335296/4422102 [00:09<00:09, 320802.47it/s]\u001b[A\n",
      " 31%|███       | 1376256/4422102 [00:09<00:09, 315476.57it/s]\u001b[A\n",
      " 32%|███▏      | 1425408/4422102 [00:09<00:09, 331839.23it/s]\u001b[A\n",
      " 33%|███▎      | 1466368/4422102 [00:09<00:09, 302866.53it/s]\u001b[A\n",
      " 35%|███▌      | 1548288/4422102 [00:09<00:07, 372133.21it/s]\u001b[A\n",
      " 36%|███▌      | 1597440/4422102 [00:10<00:08, 331800.62it/s]\u001b[A\n",
      " 37%|███▋      | 1638400/4422102 [00:10<00:07, 349635.22it/s]\u001b[A\n",
      " 38%|███▊      | 1695744/4422102 [00:10<00:06, 395907.96it/s]\u001b[A\n",
      " 39%|███▉      | 1744896/4422102 [00:10<00:07, 366091.58it/s]\u001b[A\n",
      " 41%|████      | 1802240/4422102 [00:10<00:06, 394481.21it/s]\u001b[A\n",
      " 43%|████▎     | 1884160/4422102 [00:10<00:05, 454728.21it/s]\u001b[A\n",
      " 44%|████▍     | 1941504/4422102 [00:10<00:06, 413328.84it/s]\u001b[A\n",
      " 45%|████▌     | 2007040/4422102 [00:11<00:05, 457887.63it/s]\u001b[A\n",
      " 47%|████▋     | 2064384/4422102 [00:11<00:05, 467787.38it/s]\u001b[A\n",
      " 48%|████▊     | 2129920/4422102 [00:11<00:04, 504048.45it/s]\u001b[A\n",
      " 50%|████▉     | 2195456/4422102 [00:11<00:04, 540504.78it/s]\u001b[A\n",
      " 52%|█████▏    | 2285568/4422102 [00:11<00:03, 612992.52it/s]\u001b[A\n",
      " 53%|█████▎    | 2359296/4422102 [00:11<00:03, 587506.42it/s]\u001b[A\n",
      " 55%|█████▍    | 2424832/4422102 [00:11<00:03, 537613.36it/s]\u001b[A\n",
      " 59%|█████▉    | 2629632/4422102 [00:11<00:02, 685729.25it/s]\u001b[A\n",
      " 62%|██████▏   | 2727936/4422102 [00:11<00:02, 724638.26it/s]\u001b[A\n",
      " 64%|██████▍   | 2834432/4422102 [00:12<00:01, 795098.65it/s]\u001b[A\n",
      " 67%|██████▋   | 2949120/4422102 [00:12<00:01, 871445.70it/s]\u001b[A\n",
      " 69%|██████▉   | 3055616/4422102 [00:12<00:01, 807811.69it/s]\u001b[A\n",
      " 71%|███████▏  | 3153920/4422102 [00:12<00:01, 852390.86it/s]\u001b[A\n",
      " 74%|███████▍  | 3284992/4422102 [00:12<00:01, 942435.53it/s]\u001b[A\n",
      " 77%|███████▋  | 3391488/4422102 [00:12<00:01, 872792.32it/s]\u001b[A\n",
      " 79%|███████▉  | 3489792/4422102 [00:12<00:01, 881403.82it/s]\u001b[A\n",
      " 82%|████████▏ | 3629056/4422102 [00:12<00:00, 981855.26it/s]\u001b[A\n",
      " 84%|████████▍ | 3735552/4422102 [00:13<00:00, 902322.75it/s]\u001b[A\n",
      " 87%|████████▋ | 3866624/4422102 [00:13<00:00, 991151.66it/s]\u001b[A\n",
      " 90%|█████████ | 3997696/4422102 [00:13<00:00, 1069252.50it/s]\u001b[A\n",
      " 93%|█████████▎| 4112384/4422102 [00:13<00:00, 993963.66it/s] \u001b[A\n",
      " 96%|█████████▌| 4243456/4422102 [00:13<00:00, 1070645.24it/s]\u001b[A\n",
      " 99%|█████████▉| 4374528/4422102 [00:13<00:00, 1125154.84it/s]\u001b[A\n",
      "\n",
      "0it [00:00, ?it/s]\u001b[A\u001b[A"
     ]
    },
    {
     "name": "stdout",
     "output_type": "stream",
     "text": [
      "Extracting /home/mehran/.pytorch/F_MNIST_data/FashionMNIST/raw/t10k-images-idx3-ubyte.gz\n",
      "Downloading http://fashion-mnist.s3-website.eu-central-1.amazonaws.com/t10k-labels-idx1-ubyte.gz to /home/mehran/.pytorch/F_MNIST_data/FashionMNIST/raw/t10k-labels-idx1-ubyte.gz\n"
     ]
    },
    {
     "name": "stderr",
     "output_type": "stream",
     "text": [
      "\n",
      "\n",
      "  0%|          | 0/5148 [00:01<?, ?it/s]\u001b[A\u001b[A\n",
      "\n",
      "8192it [00:01, 5280.13it/s]             \u001b[A\u001b[A"
     ]
    },
    {
     "name": "stdout",
     "output_type": "stream",
     "text": [
      "Extracting /home/mehran/.pytorch/F_MNIST_data/FashionMNIST/raw/t10k-labels-idx1-ubyte.gz\n",
      "Processing...\n",
      "Done!\n"
     ]
    }
   ],
   "source": [
    "import torch\n",
    "from torchvision import datasets, transforms\n",
    "import helper\n",
    "\n",
    "# Define a transform to normalize the data\n",
    "transform = transforms.Compose([transforms.ToTensor(),\n",
    "                                transforms.Normalize((0.5,), (0.5,))])\n",
    "# Download and load the training data\n",
    "trainset = datasets.FashionMNIST('~/.pytorch/F_MNIST_data/', download=True, train=True, transform=transform)\n",
    "trainloader = torch.utils.data.DataLoader(trainset, batch_size=64, shuffle=True)\n",
    "\n",
    "# Download and load the test data\n",
    "testset = datasets.FashionMNIST('~/.pytorch/F_MNIST_data/', download=True, train=False, transform=transform)\n",
    "testloader = torch.utils.data.DataLoader(testset, batch_size=64, shuffle=True)"
   ]
  },
  {
   "cell_type": "markdown",
   "metadata": {},
   "source": [
    "Here we can see one of the images."
   ]
  },
  {
   "cell_type": "code",
   "execution_count": 30,
   "metadata": {},
   "outputs": [
    {
     "name": "stdout",
     "output_type": "stream",
     "text": [
      "tensor(0)\n"
     ]
    },
    {
     "data": {
      "image/png": "[encoded data removed]",
      "text/plain": [
       "<Figure size 432x288 with 1 Axes>"
      ]
     },
     "metadata": {
      "needs_background": "light"
     },
     "output_type": "display_data"
    }
   ],
   "source": [
    "image, label = next(iter(trainloader))\n",
    "helper.imshow(image[0,:]);\n",
    "print(label[0])"
   ]
  },
  {
   "cell_type": "markdown",
   "metadata": {},
   "source": [
    "## Building the network\n",
    "\n",
    "Here you should define your network. As with MNIST, each image is 28x28 which is a total of 784 pixels, and there are 10 classes. You should include at least one hidden layer. We suggest you use ReLU activations for the layers and to return the logits or log-softmax from the forward pass. It's up to you how many layers you add and the size of those layers."
   ]
  },
  {
   "cell_type": "code",
   "execution_count": 48,
   "metadata": {},
   "outputs": [],
   "source": [
    "# TODO: Define your network architecture here\n",
    "from torch import nn\n",
    "\n",
    "model = nn.Sequential(nn.Linear(784, 128),\n",
    "                      nn.ReLU(),\n",
    "                      nn.Linear(128, 64),\n",
    "                      nn.ReLU(),\n",
    "                      nn.Linear(64, 10),\n",
    "                      nn.LogSoftmax(dim = 1))"
   ]
  },
  {
   "cell_type": "markdown",
   "metadata": {},
   "source": [
    "# Train the network\n",
    "\n",
    "Now you should create your network and train it. First you'll want to define [the criterion](http://pytorch.org/docs/master/nn.html#loss-functions) ( something like `nn.CrossEntropyLoss`) and [the optimizer](http://pytorch.org/docs/master/optim.html) (typically `optim.SGD` or `optim.Adam`).\n",
    "\n",
    "Then write the training code. Remember the training pass is a fairly straightforward process:\n",
    "\n",
    "* Make a forward pass through the network to get the logits \n",
    "* Use the logits to calculate the loss\n",
    "* Perform a backward pass through the network with `loss.backward()` to calculate the gradients\n",
    "* Take a step with the optimizer to update the weights\n",
    "\n",
    "By adjusting the hyperparameters (hidden units, learning rate, etc), you should be able to get the training loss below 0.4."
   ]
  },
  {
   "cell_type": "code",
   "execution_count": 54,
   "metadata": {},
   "outputs": [],
   "source": [
    "# TODO: Create the network, define the criterion and optimizer\n",
    "from torch import optim\n",
    "\n",
    "criterion = nn.NLLLoss()\n",
    "optimizer = optim.SGD(model.parameters(), lr = 0.01)"
   ]
  },
  {
   "cell_type": "code",
   "execution_count": 55,
   "metadata": {},
   "outputs": [
    {
     "name": "stdout",
     "output_type": "stream",
     "text": [
      "Epoch: 1/5...  Loss: 0.5021\n",
      "Epoch: 1/5...  Loss: 1.0003\n",
      "Epoch: 1/5...  Loss: 1.5101\n",
      "Epoch: 1/5...  Loss: 1.9858\n",
      "Epoch: 1/5...  Loss: 2.4729\n",
      "Epoch: 1/5...  Loss: 2.9366\n",
      "Epoch: 1/5...  Loss: 3.4191\n",
      "Epoch: 1/5...  Loss: 3.8885\n",
      "Epoch: 1/5...  Loss: 4.3754\n",
      "Epoch: 1/5...  Loss: 4.8543\n",
      "Epoch: 1/5...  Loss: 5.3245\n",
      "Epoch: 1/5...  Loss: 5.7919\n",
      "Epoch: 1/5...  Loss: 6.2529\n",
      "Epoch: 1/5...  Loss: 6.7160\n",
      "Epoch: 1/5...  Loss: 7.1568\n",
      "Epoch: 1/5...  Loss: 7.5924\n",
      "Epoch: 1/5...  Loss: 8.0507\n",
      "Epoch: 1/5...  Loss: 8.5097\n",
      "Training loss: 0.4720757720884738\n",
      "Epoch: 2/5...  Loss: 0.1044\n",
      "Epoch: 2/5...  Loss: 0.5343\n",
      "Epoch: 2/5...  Loss: 1.0012\n",
      "Epoch: 2/5...  Loss: 1.4491\n",
      "Epoch: 2/5...  Loss: 1.9246\n",
      "Epoch: 2/5...  Loss: 2.3605\n",
      "Epoch: 2/5...  Loss: 2.8015\n",
      "Epoch: 2/5...  Loss: 3.2367\n",
      "Epoch: 2/5...  Loss: 3.6753\n",
      "Epoch: 2/5...  Loss: 4.1035\n",
      "Epoch: 2/5...  Loss: 4.5503\n",
      "Epoch: 2/5...  Loss: 4.9894\n",
      "Epoch: 2/5...  Loss: 5.4434\n",
      "Epoch: 2/5...  Loss: 5.9050\n",
      "Epoch: 2/5...  Loss: 6.3624\n",
      "Epoch: 2/5...  Loss: 6.8147\n",
      "Epoch: 2/5...  Loss: 7.2382\n",
      "Epoch: 2/5...  Loss: 7.6599\n",
      "Epoch: 2/5...  Loss: 8.1138\n",
      "Training loss: 0.44460041741572465\n",
      "Epoch: 3/5...  Loss: 0.1958\n",
      "Epoch: 3/5...  Loss: 0.6389\n",
      "Epoch: 3/5...  Loss: 1.0722\n",
      "Epoch: 3/5...  Loss: 1.5051\n",
      "Epoch: 3/5...  Loss: 1.9387\n",
      "Epoch: 3/5...  Loss: 2.3678\n",
      "Epoch: 3/5...  Loss: 2.7909\n",
      "Epoch: 3/5...  Loss: 3.2178\n",
      "Epoch: 3/5...  Loss: 3.6591\n",
      "Epoch: 3/5...  Loss: 4.0692\n",
      "Epoch: 3/5...  Loss: 4.4742\n",
      "Epoch: 3/5...  Loss: 4.9204\n",
      "Epoch: 3/5...  Loss: 5.3565\n",
      "Epoch: 3/5...  Loss: 5.7437\n",
      "Epoch: 3/5...  Loss: 6.1599\n",
      "Epoch: 3/5...  Loss: 6.5745\n",
      "Epoch: 3/5...  Loss: 7.0090\n",
      "Epoch: 3/5...  Loss: 7.4355\n",
      "Epoch: 3/5...  Loss: 7.8494\n",
      "Training loss: 0.42471182800686436\n",
      "Epoch: 4/5...  Loss: 0.2959\n",
      "Epoch: 4/5...  Loss: 0.7139\n",
      "Epoch: 4/5...  Loss: 1.1229\n",
      "Epoch: 4/5...  Loss: 1.5484\n",
      "Epoch: 4/5...  Loss: 1.9514\n",
      "Epoch: 4/5...  Loss: 2.3517\n",
      "Epoch: 4/5...  Loss: 2.7477\n",
      "Epoch: 4/5...  Loss: 3.1516\n",
      "Epoch: 4/5...  Loss: 3.5597\n",
      "Epoch: 4/5...  Loss: 3.9704\n",
      "Epoch: 4/5...  Loss: 4.3782\n",
      "Epoch: 4/5...  Loss: 4.7959\n",
      "Epoch: 4/5...  Loss: 5.1956\n",
      "Epoch: 4/5...  Loss: 5.6003\n",
      "Epoch: 4/5...  Loss: 6.0262\n",
      "Epoch: 4/5...  Loss: 6.4326\n",
      "Epoch: 4/5...  Loss: 6.8398\n",
      "Epoch: 4/5...  Loss: 7.2562\n",
      "Epoch: 4/5...  Loss: 7.6577\n",
      "Training loss: 0.40899396049124853\n",
      "Epoch: 5/5...  Loss: 0.3869\n",
      "Epoch: 5/5...  Loss: 0.7905\n",
      "Epoch: 5/5...  Loss: 1.1721\n",
      "Epoch: 5/5...  Loss: 1.5936\n",
      "Epoch: 5/5...  Loss: 1.9553\n",
      "Epoch: 5/5...  Loss: 2.3660\n",
      "Epoch: 5/5...  Loss: 2.7500\n",
      "Epoch: 5/5...  Loss: 3.1374\n",
      "Epoch: 5/5...  Loss: 3.5256\n",
      "Epoch: 5/5...  Loss: 3.9179\n",
      "Epoch: 5/5...  Loss: 4.3325\n",
      "Epoch: 5/5...  Loss: 4.7316\n",
      "Epoch: 5/5...  Loss: 5.1305\n",
      "Epoch: 5/5...  Loss: 5.5120\n",
      "Epoch: 5/5...  Loss: 5.9192\n",
      "Epoch: 5/5...  Loss: 6.3121\n",
      "Epoch: 5/5...  Loss: 6.7073\n",
      "Epoch: 5/5...  Loss: 7.1066\n",
      "Training loss: 0.396393338246132\n"
     ]
    }
   ],
   "source": [
    "# TODO: Train the network here\n",
    "epochs = 5\n",
    "steps = 0\n",
    "print_every = 50\n",
    "for e in range(epochs):\n",
    "    running_loss = 0\n",
    "    for images, labels in trainloader:\n",
    "        steps+=1\n",
    "        # Flatten MNIST images into a 784 long vector\n",
    "        images = images.view(images.shape[0], -1)\n",
    "    \n",
    "        # TODO: Training pass\n",
    "        optimizer.zero_grad()\n",
    "        output = model(images)\n",
    "        loss = criterion(output, labels)\n",
    "        loss.backward()\n",
    "        optimizer.step()\n",
    "        \n",
    "        running_loss += loss.item()\n",
    "        if steps % print_every == 0:\n",
    "            print(\"Epoch: {}/{}... \".format(e+1, epochs),\n",
    "                  \"Loss: {:.4f}\".format(running_loss/print_every))\n",
    "    else:\n",
    "        print(f\"Training loss: {running_loss/len(trainloader)}\")"
   ]
  },
  {
   "cell_type": "code",
   "execution_count": 78,
   "metadata": {},
   "outputs": [
    {
     "data": {
      "image/png": "[encoded data removed]",
      "text/plain": [
       "<Figure size 432x648 with 2 Axes>"
      ]
     },
     "metadata": {
      "image/png": {
       "height": 206,
       "width": 423
      },
      "needs_background": "light"
     },
     "output_type": "display_data"
    }
   ],
   "source": [
    "%matplotlib inline\n",
    "%config InlineBackend.figure_format = 'retina'\n",
    "\n",
    "import helper\n",
    "\n",
    "# Test out your network!\n",
    "\n",
    "dataiter = iter(testloader)\n",
    "images, labels = dataiter.next()\n",
    "img = images[0]\n",
    "# Convert 2D image to 1D vector\n",
    "img = img.resize_(1, 784)\n",
    "\n",
    "# TODO: Calculate the class probabilities (softmax) for img\n",
    "with torch.no_grad():\n",
    "    ps = torch.exp(model(img))\n",
    "# ps = model(img)\n",
    "\n",
    "# Plot the image and probabilities\n",
    "helper.view_classify(img.resize_(1, 28, 28), ps, version='Fashion')"
   ]
  }
 ],
 "metadata": {
  "kernelspec": {
   "display_name": "Python 3",
   "language": "python",
   "name": "python3"
  },
  "language_info": {
   "codemirror_mode": {
    "name": "ipython",
    "version": 3
   },
   "file_extension": ".py",
   "mimetype": "text/x-python",
   "name": "python",
   "nbconvert_exporter": "python",
   "pygments_lexer": "ipython3",
   "version": "3.6.8"
  }
 },
 "nbformat": 4,
 "nbformat_minor": 2
}
